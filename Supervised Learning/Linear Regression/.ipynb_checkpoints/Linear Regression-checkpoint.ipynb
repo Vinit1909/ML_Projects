{
 "cells": [
  {
   "cell_type": "markdown",
   "id": "8aa4548a",
   "metadata": {},
   "source": [
    "# Mathematical Approach\n",
    "# Features = x, X \n",
    "# Labels = y, Y\n"
   ]
  },
  {
   "cell_type": "code",
   "execution_count": 1,
   "id": "89c1aa12",
   "metadata": {},
   "outputs": [],
   "source": [
    "import numpy as np\n",
    "import matplotlib.pyplot as plt"
   ]
  },
  {
   "cell_type": "code",
   "execution_count": 2,
   "id": "63baa2f2",
   "metadata": {},
   "outputs": [],
   "source": [
    "X = np.array([2.3,6.4,6.8,7.9,8.5,9.8,11.2])\n",
    "Y = np.array([3.2,4.3,5.6,6.4,7.6,8.9,10.3])"
   ]
  },
  {
   "cell_type": "code",
   "execution_count": 4,
   "id": "7d916f9d",
   "metadata": {},
   "outputs": [
    {
     "data": {
      "image/png": "[encoded data removed]",
      "text/plain": [
       "<Figure size 432x288 with 1 Axes>"
      ]
     },
     "metadata": {
      "needs_background": "light"
     },
     "output_type": "display_data"
    }
   ],
   "source": [
    "plt.scatter(X,Y)\n",
    "plt.show()"
   ]
  },
  {
   "cell_type": "code",
   "execution_count": 5,
   "id": "14d866e1",
   "metadata": {},
   "outputs": [],
   "source": [
    "x_mean = X.mean()\n",
    "y_mean = Y.mean()"
   ]
  },
  {
   "cell_type": "code",
   "execution_count": 6,
   "id": "fdff50d3",
   "metadata": {},
   "outputs": [
    {
     "data": {
      "text/plain": [
       "7.557142857142858"
      ]
     },
     "execution_count": 6,
     "metadata": {},
     "output_type": "execute_result"
    }
   ],
   "source": [
    "x_mean"
   ]
  },
  {
   "cell_type": "code",
   "execution_count": 7,
   "id": "4226ee8a",
   "metadata": {},
   "outputs": [
    {
     "data": {
      "text/plain": [
       "6.614285714285714"
      ]
     },
     "execution_count": 7,
     "metadata": {},
     "output_type": "execute_result"
    }
   ],
   "source": [
    "y_mean"
   ]
  },
  {
   "cell_type": "code",
   "execution_count": 8,
   "id": "99e747ca",
   "metadata": {},
   "outputs": [
    {
     "name": "stdout",
     "output_type": "stream",
     "text": [
      "0.8351754385964912\n",
      "0.3027456140350866\n"
     ]
    }
   ],
   "source": [
    "num = 0\n",
    "den = 0\n",
    "\n",
    "for i in range(len(X)):\n",
    "    num += (X[i] - x_mean) * (Y[i] - y_mean)\n",
    "    den += (X[i] - x_mean)**2\n",
    "    \n",
    "m = num/den\n",
    "print(m)\n",
    "\n",
    "b = y_mean - m * x_mean\n",
    "print(b)"
   ]
  },
  {
   "cell_type": "code",
   "execution_count": 9,
   "id": "8ea8ca71",
   "metadata": {},
   "outputs": [],
   "source": [
    "a = np.arange(2,12)\n",
    "d = m * a + b "
   ]
  },
  {
   "cell_type": "code",
   "execution_count": 13,
   "id": "58e597eb",
   "metadata": {},
   "outputs": [
    {
     "data": {
      "image/png": "[encoded data removed]",
      "text/plain": [
       "<Figure size 432x288 with 1 Axes>"
      ]
     },
     "metadata": {
      "needs_background": "light"
     },
     "output_type": "display_data"
    }
   ],
   "source": [
    "plt.scatter(X,Y)\n",
    "plt.plot(a,d, color = 'r')\n",
    "plt.show()"
   ]
  },
  {
   "cell_type": "markdown",
   "id": "281430f2",
   "metadata": {},
   "source": [
    "# Library Approach"
   ]
  },
  {
   "cell_type": "code",
   "execution_count": 14,
   "id": "8b75a8d7",
   "metadata": {},
   "outputs": [],
   "source": [
    "from sklearn.linear_model import LinearRegression"
   ]
  },
  {
   "cell_type": "code",
   "execution_count": 15,
   "id": "25529877",
   "metadata": {},
   "outputs": [],
   "source": [
    "model = LinearRegression()"
   ]
  },
  {
   "cell_type": "code",
   "execution_count": 16,
   "id": "91f9a550",
   "metadata": {},
   "outputs": [
    {
     "data": {
      "text/plain": [
       "array([ 2.3,  6.4,  6.8,  7.9,  8.5,  9.8, 11.2])"
      ]
     },
     "execution_count": 16,
     "metadata": {},
     "output_type": "execute_result"
    }
   ],
   "source": [
    "X"
   ]
  },
  {
   "cell_type": "code",
   "execution_count": 17,
   "id": "f1a7fea5",
   "metadata": {},
   "outputs": [
    {
     "data": {
      "text/plain": [
       "array([ 3.2,  4.3,  5.6,  6.4,  7.6,  8.9, 10.3])"
      ]
     },
     "execution_count": 17,
     "metadata": {},
     "output_type": "execute_result"
    }
   ],
   "source": [
    "Y"
   ]
  },
  {
   "cell_type": "code",
   "execution_count": 19,
   "id": "f387ae47",
   "metadata": {},
   "outputs": [],
   "source": [
    "X = X.reshape(-1,1)\n",
    "Y = Y.reshape(-1,1)"
   ]
  },
  {
   "cell_type": "code",
   "execution_count": 20,
   "id": "ec2c18ae",
   "metadata": {},
   "outputs": [
    {
     "data": {
      "text/plain": [
       "array([[ 2.3],\n",
       "       [ 6.4],\n",
       "       [ 6.8],\n",
       "       [ 7.9],\n",
       "       [ 8.5],\n",
       "       [ 9.8],\n",
       "       [11.2]])"
      ]
     },
     "execution_count": 20,
     "metadata": {},
     "output_type": "execute_result"
    }
   ],
   "source": [
    "X"
   ]
  },
  {
   "cell_type": "code",
   "execution_count": 21,
   "id": "b7248fb2",
   "metadata": {},
   "outputs": [
    {
     "data": {
      "text/plain": [
       "array([[ 3.2],\n",
       "       [ 4.3],\n",
       "       [ 5.6],\n",
       "       [ 6.4],\n",
       "       [ 7.6],\n",
       "       [ 8.9],\n",
       "       [10.3]])"
      ]
     },
     "execution_count": 21,
     "metadata": {},
     "output_type": "execute_result"
    }
   ],
   "source": [
    "Y"
   ]
  },
  {
   "cell_type": "code",
   "execution_count": 22,
   "id": "0a88f4cd",
   "metadata": {},
   "outputs": [
    {
     "data": {
      "text/plain": [
       "LinearRegression()"
      ]
     },
     "execution_count": 22,
     "metadata": {},
     "output_type": "execute_result"
    }
   ],
   "source": [
    "model.fit(X,Y)"
   ]
  },
  {
   "cell_type": "code",
   "execution_count": 29,
   "id": "88427ac4",
   "metadata": {},
   "outputs": [],
   "source": [
    "m = model.coef_[0]  #to get the slope value"
   ]
  },
  {
   "cell_type": "code",
   "execution_count": 28,
   "id": "eed5c37c",
   "metadata": {},
   "outputs": [],
   "source": [
    "b = model.intercept_[0]  #to get the intercept value"
   ]
  },
  {
   "cell_type": "code",
   "execution_count": 30,
   "id": "da6230a3",
   "metadata": {},
   "outputs": [],
   "source": [
    "a = np.arange(2,12)\n",
    "d = m * a + b"
   ]
  },
  {
   "cell_type": "code",
   "execution_count": 31,
   "id": "23bdd062",
   "metadata": {},
   "outputs": [
    {
     "data": {
      "image/png": "[encoded data removed]",
      "text/plain": [
       "<Figure size 432x288 with 1 Axes>"
      ]
     },
     "metadata": {
      "needs_background": "light"
     },
     "output_type": "display_data"
    }
   ],
   "source": [
    "plt.scatter(X,Y)\n",
    "plt.plot(a,d,color='r')\n",
    "plt.show()"
   ]
  },
  {
   "cell_type": "code",
   "execution_count": null,
   "id": "5bbea4b3",
   "metadata": {},
   "outputs": [],
   "source": []
  }
 ],
 "metadata": {
  "kernelspec": {
   "display_name": "Python 3",
   "language": "python",
   "name": "python3"
  },
  "language_info": {
   "codemirror_mode": {
    "name": "ipython",
    "version": 3
   },
   "file_extension": ".py",
   "mimetype": "text/x-python",
   "name": "python",
   "nbconvert_exporter": "python",
   "pygments_lexer": "ipython3",
   "version": "3.8.8"
  }
 },
 "nbformat": 4,
 "nbformat_minor": 5
}
