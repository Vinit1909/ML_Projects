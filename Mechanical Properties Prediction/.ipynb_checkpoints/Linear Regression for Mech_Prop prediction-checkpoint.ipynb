{
 "cells": [
  {
   "cell_type": "markdown",
   "id": "20f29297",
   "metadata": {},
   "source": [
    "Import required libraries"
   ]
  },
  {
   "cell_type": "code",
   "execution_count": 103,
   "id": "de5092d2",
   "metadata": {},
   "outputs": [],
   "source": [
    "import pandas as pd\n",
    "import seaborn as sn\n",
    "import matplotlib.pyplot as plt\n",
    "\n",
    "from sklearn.linear_model import LinearRegression\n",
    "from sklearn.metrics import r2_score"
   ]
  },
  {
   "cell_type": "markdown",
   "id": "e1e417a5",
   "metadata": {},
   "source": [
    "Import the data (stress and strain)"
   ]
  },
  {
   "cell_type": "code",
   "execution_count": 104,
   "id": "a1ea2da9",
   "metadata": {},
   "outputs": [],
   "source": [
    "data = pd.read_csv(\"Al6061_150.csv\",encoding = \"unicode_escape\")"
   ]
  },
  {
   "cell_type": "code",
   "execution_count": 105,
   "id": "c2d7afa8",
   "metadata": {},
   "outputs": [
    {
     "data": {
      "text/html": [
       "<div>\n",
       "<style scoped>\n",
       "    .dataframe tbody tr th:only-of-type {\n",
       "        vertical-align: middle;\n",
       "    }\n",
       "\n",
       "    .dataframe tbody tr th {\n",
       "        vertical-align: top;\n",
       "    }\n",
       "\n",
       "    .dataframe thead th {\n",
       "        text-align: right;\n",
       "    }\n",
       "</style>\n",
       "<table border=\"1\" class=\"dataframe\">\n",
       "  <thead>\n",
       "    <tr style=\"text-align: right;\">\n",
       "      <th></th>\n",
       "      <th>Alloy_Name</th>\n",
       "      <th>Temp (°C)</th>\n",
       "      <th>Strain</th>\n",
       "      <th>Stress_MPa</th>\n",
       "      <th>Specimen_Type</th>\n",
       "    </tr>\n",
       "  </thead>\n",
       "  <tbody>\n",
       "    <tr>\n",
       "      <th>0</th>\n",
       "      <td>Al6061</td>\n",
       "      <td>150</td>\n",
       "      <td>-0.000029</td>\n",
       "      <td>0.192261</td>\n",
       "      <td>Uniaxial tension</td>\n",
       "    </tr>\n",
       "    <tr>\n",
       "      <th>1</th>\n",
       "      <td>Al6061</td>\n",
       "      <td>150</td>\n",
       "      <td>-0.000049</td>\n",
       "      <td>0.175688</td>\n",
       "      <td>Uniaxial tension</td>\n",
       "    </tr>\n",
       "    <tr>\n",
       "      <th>2</th>\n",
       "      <td>Al6061</td>\n",
       "      <td>150</td>\n",
       "      <td>-0.000083</td>\n",
       "      <td>0.171677</td>\n",
       "      <td>Uniaxial tension</td>\n",
       "    </tr>\n",
       "    <tr>\n",
       "      <th>3</th>\n",
       "      <td>Al6061</td>\n",
       "      <td>150</td>\n",
       "      <td>-0.000112</td>\n",
       "      <td>0.319099</td>\n",
       "      <td>Uniaxial tension</td>\n",
       "    </tr>\n",
       "    <tr>\n",
       "      <th>4</th>\n",
       "      <td>Al6061</td>\n",
       "      <td>150</td>\n",
       "      <td>-0.000154</td>\n",
       "      <td>0.664752</td>\n",
       "      <td>Uniaxial tension</td>\n",
       "    </tr>\n",
       "    <tr>\n",
       "      <th>...</th>\n",
       "      <td>...</td>\n",
       "      <td>...</td>\n",
       "      <td>...</td>\n",
       "      <td>...</td>\n",
       "      <td>...</td>\n",
       "    </tr>\n",
       "    <tr>\n",
       "      <th>843</th>\n",
       "      <td>Al6061</td>\n",
       "      <td>150</td>\n",
       "      <td>0.162319</td>\n",
       "      <td>173.197507</td>\n",
       "      <td>Uniaxial tension</td>\n",
       "    </tr>\n",
       "    <tr>\n",
       "      <th>844</th>\n",
       "      <td>Al6061</td>\n",
       "      <td>150</td>\n",
       "      <td>0.162465</td>\n",
       "      <td>172.606949</td>\n",
       "      <td>Uniaxial tension</td>\n",
       "    </tr>\n",
       "    <tr>\n",
       "      <th>845</th>\n",
       "      <td>Al6061</td>\n",
       "      <td>150</td>\n",
       "      <td>0.162627</td>\n",
       "      <td>172.125882</td>\n",
       "      <td>Uniaxial tension</td>\n",
       "    </tr>\n",
       "    <tr>\n",
       "      <th>846</th>\n",
       "      <td>Al6061</td>\n",
       "      <td>150</td>\n",
       "      <td>0.162826</td>\n",
       "      <td>171.479881</td>\n",
       "      <td>Uniaxial tension</td>\n",
       "    </tr>\n",
       "    <tr>\n",
       "      <th>847</th>\n",
       "      <td>Al6061</td>\n",
       "      <td>150</td>\n",
       "      <td>0.162827</td>\n",
       "      <td>0.000000</td>\n",
       "      <td>Uniaxial tension</td>\n",
       "    </tr>\n",
       "  </tbody>\n",
       "</table>\n",
       "<p>848 rows × 5 columns</p>\n",
       "</div>"
      ],
      "text/plain": [
       "    Alloy_Name  Temp (°C)    Strain  Stress_MPa     Specimen_Type\n",
       "0       Al6061        150 -0.000029    0.192261  Uniaxial tension\n",
       "1       Al6061        150 -0.000049    0.175688  Uniaxial tension\n",
       "2       Al6061        150 -0.000083    0.171677  Uniaxial tension\n",
       "3       Al6061        150 -0.000112    0.319099  Uniaxial tension\n",
       "4       Al6061        150 -0.000154    0.664752  Uniaxial tension\n",
       "..         ...        ...       ...         ...               ...\n",
       "843     Al6061        150  0.162319  173.197507  Uniaxial tension\n",
       "844     Al6061        150  0.162465  172.606949  Uniaxial tension\n",
       "845     Al6061        150  0.162627  172.125882  Uniaxial tension\n",
       "846     Al6061        150  0.162826  171.479881  Uniaxial tension\n",
       "847     Al6061        150  0.162827    0.000000  Uniaxial tension\n",
       "\n",
       "[848 rows x 5 columns]"
      ]
     },
     "execution_count": 105,
     "metadata": {},
     "output_type": "execute_result"
    }
   ],
   "source": [
    "data"
   ]
  },
  {
   "cell_type": "markdown",
   "id": "1ce8c1d8",
   "metadata": {},
   "source": [
    "Data preparation"
   ]
  },
  {
   "cell_type": "code",
   "execution_count": 106,
   "id": "b148bbd9",
   "metadata": {},
   "outputs": [
    {
     "data": {
      "text/plain": [
       "Alloy_Name       0\n",
       "Temp (°C)        0\n",
       "Strain           0\n",
       "Stress_MPa       0\n",
       "Specimen_Type    0\n",
       "dtype: int64"
      ]
     },
     "execution_count": 106,
     "metadata": {},
     "output_type": "execute_result"
    }
   ],
   "source": [
    "data.isnull().sum()"
   ]
  },
  {
   "cell_type": "code",
   "execution_count": 107,
   "id": "528825af",
   "metadata": {},
   "outputs": [
    {
     "data": {
      "text/html": [
       "<div>\n",
       "<style scoped>\n",
       "    .dataframe tbody tr th:only-of-type {\n",
       "        vertical-align: middle;\n",
       "    }\n",
       "\n",
       "    .dataframe tbody tr th {\n",
       "        vertical-align: top;\n",
       "    }\n",
       "\n",
       "    .dataframe thead th {\n",
       "        text-align: right;\n",
       "    }\n",
       "</style>\n",
       "<table border=\"1\" class=\"dataframe\">\n",
       "  <thead>\n",
       "    <tr style=\"text-align: right;\">\n",
       "      <th></th>\n",
       "      <th>Alloy_Name</th>\n",
       "      <th>Temp (°C)</th>\n",
       "      <th>Strain</th>\n",
       "      <th>Stress_MPa</th>\n",
       "      <th>Specimen_Type</th>\n",
       "    </tr>\n",
       "  </thead>\n",
       "  <tbody>\n",
       "    <tr>\n",
       "      <th>0</th>\n",
       "      <td>Al6061</td>\n",
       "      <td>150</td>\n",
       "      <td>-0.000029</td>\n",
       "      <td>0.192261</td>\n",
       "      <td>Uniaxial tension</td>\n",
       "    </tr>\n",
       "    <tr>\n",
       "      <th>1</th>\n",
       "      <td>Al6061</td>\n",
       "      <td>150</td>\n",
       "      <td>-0.000049</td>\n",
       "      <td>0.175688</td>\n",
       "      <td>Uniaxial tension</td>\n",
       "    </tr>\n",
       "    <tr>\n",
       "      <th>2</th>\n",
       "      <td>Al6061</td>\n",
       "      <td>150</td>\n",
       "      <td>-0.000083</td>\n",
       "      <td>0.171677</td>\n",
       "      <td>Uniaxial tension</td>\n",
       "    </tr>\n",
       "    <tr>\n",
       "      <th>3</th>\n",
       "      <td>Al6061</td>\n",
       "      <td>150</td>\n",
       "      <td>-0.000112</td>\n",
       "      <td>0.319099</td>\n",
       "      <td>Uniaxial tension</td>\n",
       "    </tr>\n",
       "    <tr>\n",
       "      <th>4</th>\n",
       "      <td>Al6061</td>\n",
       "      <td>150</td>\n",
       "      <td>-0.000154</td>\n",
       "      <td>0.664752</td>\n",
       "      <td>Uniaxial tension</td>\n",
       "    </tr>\n",
       "    <tr>\n",
       "      <th>...</th>\n",
       "      <td>...</td>\n",
       "      <td>...</td>\n",
       "      <td>...</td>\n",
       "      <td>...</td>\n",
       "      <td>...</td>\n",
       "    </tr>\n",
       "    <tr>\n",
       "      <th>842</th>\n",
       "      <td>Al6061</td>\n",
       "      <td>150</td>\n",
       "      <td>0.161944</td>\n",
       "      <td>174.372188</td>\n",
       "      <td>Uniaxial tension</td>\n",
       "    </tr>\n",
       "    <tr>\n",
       "      <th>843</th>\n",
       "      <td>Al6061</td>\n",
       "      <td>150</td>\n",
       "      <td>0.162319</td>\n",
       "      <td>173.197507</td>\n",
       "      <td>Uniaxial tension</td>\n",
       "    </tr>\n",
       "    <tr>\n",
       "      <th>844</th>\n",
       "      <td>Al6061</td>\n",
       "      <td>150</td>\n",
       "      <td>0.162465</td>\n",
       "      <td>172.606949</td>\n",
       "      <td>Uniaxial tension</td>\n",
       "    </tr>\n",
       "    <tr>\n",
       "      <th>845</th>\n",
       "      <td>Al6061</td>\n",
       "      <td>150</td>\n",
       "      <td>0.162627</td>\n",
       "      <td>172.125882</td>\n",
       "      <td>Uniaxial tension</td>\n",
       "    </tr>\n",
       "    <tr>\n",
       "      <th>846</th>\n",
       "      <td>Al6061</td>\n",
       "      <td>150</td>\n",
       "      <td>0.162826</td>\n",
       "      <td>171.479881</td>\n",
       "      <td>Uniaxial tension</td>\n",
       "    </tr>\n",
       "  </tbody>\n",
       "</table>\n",
       "<p>847 rows × 5 columns</p>\n",
       "</div>"
      ],
      "text/plain": [
       "    Alloy_Name  Temp (°C)    Strain  Stress_MPa     Specimen_Type\n",
       "0       Al6061        150 -0.000029    0.192261  Uniaxial tension\n",
       "1       Al6061        150 -0.000049    0.175688  Uniaxial tension\n",
       "2       Al6061        150 -0.000083    0.171677  Uniaxial tension\n",
       "3       Al6061        150 -0.000112    0.319099  Uniaxial tension\n",
       "4       Al6061        150 -0.000154    0.664752  Uniaxial tension\n",
       "..         ...        ...       ...         ...               ...\n",
       "842     Al6061        150  0.161944  174.372188  Uniaxial tension\n",
       "843     Al6061        150  0.162319  173.197507  Uniaxial tension\n",
       "844     Al6061        150  0.162465  172.606949  Uniaxial tension\n",
       "845     Al6061        150  0.162627  172.125882  Uniaxial tension\n",
       "846     Al6061        150  0.162826  171.479881  Uniaxial tension\n",
       "\n",
       "[847 rows x 5 columns]"
      ]
     },
     "execution_count": 107,
     "metadata": {},
     "output_type": "execute_result"
    }
   ],
   "source": [
    "data = data.drop([data.index[847]])\n",
    "data"
   ]
  },
  {
   "cell_type": "code",
   "execution_count": 108,
   "id": "fca767b9",
   "metadata": {},
   "outputs": [
    {
     "name": "stdout",
     "output_type": "stream",
     "text": [
      "<class 'pandas.core.frame.DataFrame'>\n",
      "Int64Index: 847 entries, 0 to 846\n",
      "Data columns (total 5 columns):\n",
      " #   Column         Non-Null Count  Dtype  \n",
      "---  ------         --------------  -----  \n",
      " 0   Alloy_Name     847 non-null    object \n",
      " 1   Temp (°C)      847 non-null    int64  \n",
      " 2   Strain         847 non-null    float64\n",
      " 3   Stress_MPa     847 non-null    float64\n",
      " 4   Specimen_Type  847 non-null    object \n",
      "dtypes: float64(2), int64(1), object(2)\n",
      "memory usage: 39.7+ KB\n"
     ]
    }
   ],
   "source": [
    "data.info()"
   ]
  },
  {
   "cell_type": "code",
   "execution_count": 109,
   "id": "cda689b1",
   "metadata": {},
   "outputs": [
    {
     "data": {
      "text/html": [
       "<div>\n",
       "<style scoped>\n",
       "    .dataframe tbody tr th:only-of-type {\n",
       "        vertical-align: middle;\n",
       "    }\n",
       "\n",
       "    .dataframe tbody tr th {\n",
       "        vertical-align: top;\n",
       "    }\n",
       "\n",
       "    .dataframe thead th {\n",
       "        text-align: right;\n",
       "    }\n",
       "</style>\n",
       "<table border=\"1\" class=\"dataframe\">\n",
       "  <thead>\n",
       "    <tr style=\"text-align: right;\">\n",
       "      <th></th>\n",
       "      <th>Temp (°C)</th>\n",
       "      <th>Strain</th>\n",
       "      <th>Stress_MPa</th>\n",
       "    </tr>\n",
       "  </thead>\n",
       "  <tbody>\n",
       "    <tr>\n",
       "      <th>count</th>\n",
       "      <td>847.0</td>\n",
       "      <td>847.000000</td>\n",
       "      <td>847.000000</td>\n",
       "    </tr>\n",
       "    <tr>\n",
       "      <th>mean</th>\n",
       "      <td>150.0</td>\n",
       "      <td>0.068288</td>\n",
       "      <td>213.599084</td>\n",
       "    </tr>\n",
       "    <tr>\n",
       "      <th>std</th>\n",
       "      <td>0.0</td>\n",
       "      <td>0.049594</td>\n",
       "      <td>47.150991</td>\n",
       "    </tr>\n",
       "    <tr>\n",
       "      <th>min</th>\n",
       "      <td>150.0</td>\n",
       "      <td>-0.000379</td>\n",
       "      <td>0.171677</td>\n",
       "    </tr>\n",
       "    <tr>\n",
       "      <th>25%</th>\n",
       "      <td>150.0</td>\n",
       "      <td>0.023116</td>\n",
       "      <td>220.100601</td>\n",
       "    </tr>\n",
       "    <tr>\n",
       "      <th>50%</th>\n",
       "      <td>150.0</td>\n",
       "      <td>0.064003</td>\n",
       "      <td>231.113011</td>\n",
       "    </tr>\n",
       "    <tr>\n",
       "      <th>75%</th>\n",
       "      <td>150.0</td>\n",
       "      <td>0.109856</td>\n",
       "      <td>235.657576</td>\n",
       "    </tr>\n",
       "    <tr>\n",
       "      <th>max</th>\n",
       "      <td>150.0</td>\n",
       "      <td>0.162826</td>\n",
       "      <td>237.543727</td>\n",
       "    </tr>\n",
       "  </tbody>\n",
       "</table>\n",
       "</div>"
      ],
      "text/plain": [
       "       Temp (°C)      Strain  Stress_MPa\n",
       "count      847.0  847.000000  847.000000\n",
       "mean       150.0    0.068288  213.599084\n",
       "std          0.0    0.049594   47.150991\n",
       "min        150.0   -0.000379    0.171677\n",
       "25%        150.0    0.023116  220.100601\n",
       "50%        150.0    0.064003  231.113011\n",
       "75%        150.0    0.109856  235.657576\n",
       "max        150.0    0.162826  237.543727"
      ]
     },
     "execution_count": 109,
     "metadata": {},
     "output_type": "execute_result"
    }
   ],
   "source": [
    "data.describe()"
   ]
  },
  {
   "cell_type": "code",
   "execution_count": 110,
   "id": "fc5b65e1",
   "metadata": {},
   "outputs": [
    {
     "data": {
      "text/plain": [
       "<seaborn.axisgrid.PairGrid at 0x291efae0dc0>"
      ]
     },
     "execution_count": 110,
     "metadata": {},
     "output_type": "execute_result"
    },
    {
     "data": {
      "image/png": "[encoded data removed]",
      "text/plain": [
       "<Figure size 540x540 with 12 Axes>"
      ]
     },
     "metadata": {
      "needs_background": "light"
     },
     "output_type": "display_data"
    }
   ],
   "source": [
    "sn.pairplot(data=data)"
   ]
  },
  {
   "cell_type": "markdown",
   "id": "34d3654c",
   "metadata": {},
   "source": [
    "Data Visualization"
   ]
  },
  {
   "cell_type": "code",
   "execution_count": 111,
   "id": "0d5987b8",
   "metadata": {},
   "outputs": [
    {
     "data": {
      "image/png": "[encoded data removed]",
      "text/plain": [
       "<Figure size 432x288 with 1 Axes>"
      ]
     },
     "metadata": {
      "needs_background": "light"
     },
     "output_type": "display_data"
    }
   ],
   "source": [
    "plt.plot(data[\"Strain\"], data[\"Stress_MPa\"])\n",
    "plt.title(\"Stress vs Strain\")\n",
    "plt.xlabel(\"Stress\")\n",
    "plt.ylabel(\"Strain\")\n",
    "plt.grid()\n",
    "plt.show()"
   ]
  },
  {
   "cell_type": "markdown",
   "id": "b4b6e602",
   "metadata": {},
   "source": [
    "Linear Regression"
   ]
  },
  {
   "cell_type": "code",
   "execution_count": 112,
   "id": "30921736",
   "metadata": {},
   "outputs": [
    {
     "data": {
      "text/plain": [
       "(847, 5)"
      ]
     },
     "execution_count": 112,
     "metadata": {},
     "output_type": "execute_result"
    }
   ],
   "source": [
    "row = data.shape[0]\n",
    "col = data.shape[1]\n",
    "data.shape"
   ]
  },
  {
   "cell_type": "markdown",
   "id": "a6efe614",
   "metadata": {},
   "source": [
    "Linear Regression Algorithm"
   ]
  },
  {
   "cell_type": "code",
   "execution_count": 113,
   "id": "ab5519ae",
   "metadata": {},
   "outputs": [
    {
     "data": {
      "text/plain": [
       "121"
      ]
     },
     "execution_count": 113,
     "metadata": {},
     "output_type": "execute_result"
    }
   ],
   "source": [
    "import random\n",
    "prop_line = random.randint(0,row)\n",
    "for i in range(2,row):\n",
    "    x = pd.DataFrame(data.loc[0:i,['Strain']])\n",
    "    y = pd.DataFrame(data.loc[0:i,['Stress_MPa']])\n",
    "    \n",
    "    model = LinearRegression().fit(x,y)\n",
    "    y_new = model.predict(x)\n",
    "    \n",
    "    r2 = round(r2_score(y,y_new),2)\n",
    "    if r2 >= 0.95:\n",
    "        prop_line = i\n",
    "\n",
    "prop_line"
   ]
  },
  {
   "cell_type": "code",
   "execution_count": 114,
   "id": "80703b4b",
   "metadata": {},
   "outputs": [],
   "source": [
    "#Proportional Points\n",
    "x1 = data.loc[[prop_line]].Strain\n",
    "y1 = data.iloc[[prop_line]].Stress_MPa"
   ]
  },
  {
   "cell_type": "code",
   "execution_count": 115,
   "id": "21f69b48",
   "metadata": {},
   "outputs": [],
   "source": [
    "x = pd.DataFrame(data.loc[0:prop_line,['Strain']])\n",
    "y = pd.DataFrame(data.loc[0:prop_line,['Stress_MPa']])\n",
    "model = LinearRegression().fit(x,y)\n",
    "y_new = model.predict(x) "
   ]
  },
  {
   "cell_type": "markdown",
   "id": "4c8b47bc",
   "metadata": {},
   "source": [
    "Visualization "
   ]
  },
  {
   "cell_type": "code",
   "execution_count": 116,
   "id": "9480cd80",
   "metadata": {},
   "outputs": [
    {
     "data": {
      "image/png": "[encoded data removed]",
      "text/plain": [
       "<Figure size 432x288 with 1 Axes>"
      ]
     },
     "metadata": {
      "needs_background": "light"
     },
     "output_type": "display_data"
    }
   ],
   "source": [
    "plt.scatter(data[\"Strain\"],data[\"Stress_MPa\"], label=\"Stress vs Strain\")\n",
    "plt.plot(x,y_new,'r',label=\"Linear Regression\")\n",
    "plt.scatter(x1,y1,label=\"Proportional Point\")\n",
    "plt.title(\"Stress vs Strain\")\n",
    "plt.xlabel(\"Stress\")\n",
    "plt.ylabel(\"Strain\")\n",
    "plt.legend()\n",
    "plt.grid()\n",
    "plt.show()"
   ]
  },
  {
   "cell_type": "code",
   "execution_count": 117,
   "id": "b91cfde9",
   "metadata": {},
   "outputs": [],
   "source": [
    "#Fracture Point\n",
    "x4 = data.loc[row-2].Strain\n",
    "y4 = data.loc[row-2].Stress_MPa"
   ]
  },
  {
   "cell_type": "code",
   "execution_count": 118,
   "id": "9099fef7",
   "metadata": {},
   "outputs": [],
   "source": [
    "max_stress = data.iloc[data[\"Stress_MPa\"].idxmax()]\n",
    "x3 = max_stress[\"Strain\"]\n",
    "y3 = max_stress[\"Stress_MPa\"]"
   ]
  },
  {
   "cell_type": "code",
   "execution_count": 138,
   "id": "175be10e",
   "metadata": {},
   "outputs": [
    {
     "data": {
      "text/html": [
       "<div>\n",
       "<style scoped>\n",
       "    .dataframe tbody tr th:only-of-type {\n",
       "        vertical-align: middle;\n",
       "    }\n",
       "\n",
       "    .dataframe tbody tr th {\n",
       "        vertical-align: top;\n",
       "    }\n",
       "\n",
       "    .dataframe thead th {\n",
       "        text-align: right;\n",
       "    }\n",
       "</style>\n",
       "<table border=\"1\" class=\"dataframe\">\n",
       "  <thead>\n",
       "    <tr style=\"text-align: right;\">\n",
       "      <th></th>\n",
       "      <th>Alloy_Name</th>\n",
       "      <th>Temp (°C)</th>\n",
       "      <th>Strain</th>\n",
       "      <th>Stress_MPa</th>\n",
       "      <th>Specimen_Type</th>\n",
       "      <th>Offset</th>\n",
       "    </tr>\n",
       "  </thead>\n",
       "  <tbody>\n",
       "    <tr>\n",
       "      <th>0</th>\n",
       "      <td>Al6061</td>\n",
       "      <td>150</td>\n",
       "      <td>-0.000029</td>\n",
       "      <td>0.192261</td>\n",
       "      <td>Uniaxial tension</td>\n",
       "      <td>0.001971</td>\n",
       "    </tr>\n",
       "    <tr>\n",
       "      <th>1</th>\n",
       "      <td>Al6061</td>\n",
       "      <td>150</td>\n",
       "      <td>-0.000049</td>\n",
       "      <td>0.175688</td>\n",
       "      <td>Uniaxial tension</td>\n",
       "      <td>0.001951</td>\n",
       "    </tr>\n",
       "    <tr>\n",
       "      <th>2</th>\n",
       "      <td>Al6061</td>\n",
       "      <td>150</td>\n",
       "      <td>-0.000083</td>\n",
       "      <td>0.171677</td>\n",
       "      <td>Uniaxial tension</td>\n",
       "      <td>0.001917</td>\n",
       "    </tr>\n",
       "    <tr>\n",
       "      <th>3</th>\n",
       "      <td>Al6061</td>\n",
       "      <td>150</td>\n",
       "      <td>-0.000112</td>\n",
       "      <td>0.319099</td>\n",
       "      <td>Uniaxial tension</td>\n",
       "      <td>0.001888</td>\n",
       "    </tr>\n",
       "    <tr>\n",
       "      <th>4</th>\n",
       "      <td>Al6061</td>\n",
       "      <td>150</td>\n",
       "      <td>-0.000154</td>\n",
       "      <td>0.664752</td>\n",
       "      <td>Uniaxial tension</td>\n",
       "      <td>0.001846</td>\n",
       "    </tr>\n",
       "    <tr>\n",
       "      <th>...</th>\n",
       "      <td>...</td>\n",
       "      <td>...</td>\n",
       "      <td>...</td>\n",
       "      <td>...</td>\n",
       "      <td>...</td>\n",
       "      <td>...</td>\n",
       "    </tr>\n",
       "    <tr>\n",
       "      <th>842</th>\n",
       "      <td>Al6061</td>\n",
       "      <td>150</td>\n",
       "      <td>0.161944</td>\n",
       "      <td>174.372188</td>\n",
       "      <td>Uniaxial tension</td>\n",
       "      <td>0.163944</td>\n",
       "    </tr>\n",
       "    <tr>\n",
       "      <th>843</th>\n",
       "      <td>Al6061</td>\n",
       "      <td>150</td>\n",
       "      <td>0.162319</td>\n",
       "      <td>173.197507</td>\n",
       "      <td>Uniaxial tension</td>\n",
       "      <td>0.164319</td>\n",
       "    </tr>\n",
       "    <tr>\n",
       "      <th>844</th>\n",
       "      <td>Al6061</td>\n",
       "      <td>150</td>\n",
       "      <td>0.162465</td>\n",
       "      <td>172.606949</td>\n",
       "      <td>Uniaxial tension</td>\n",
       "      <td>0.164465</td>\n",
       "    </tr>\n",
       "    <tr>\n",
       "      <th>845</th>\n",
       "      <td>Al6061</td>\n",
       "      <td>150</td>\n",
       "      <td>0.162627</td>\n",
       "      <td>172.125882</td>\n",
       "      <td>Uniaxial tension</td>\n",
       "      <td>0.164627</td>\n",
       "    </tr>\n",
       "    <tr>\n",
       "      <th>846</th>\n",
       "      <td>Al6061</td>\n",
       "      <td>150</td>\n",
       "      <td>0.162826</td>\n",
       "      <td>171.479881</td>\n",
       "      <td>Uniaxial tension</td>\n",
       "      <td>0.164826</td>\n",
       "    </tr>\n",
       "  </tbody>\n",
       "</table>\n",
       "<p>847 rows × 6 columns</p>\n",
       "</div>"
      ],
      "text/plain": [
       "    Alloy_Name  Temp (°C)    Strain  Stress_MPa     Specimen_Type    Offset\n",
       "0       Al6061        150 -0.000029    0.192261  Uniaxial tension  0.001971\n",
       "1       Al6061        150 -0.000049    0.175688  Uniaxial tension  0.001951\n",
       "2       Al6061        150 -0.000083    0.171677  Uniaxial tension  0.001917\n",
       "3       Al6061        150 -0.000112    0.319099  Uniaxial tension  0.001888\n",
       "4       Al6061        150 -0.000154    0.664752  Uniaxial tension  0.001846\n",
       "..         ...        ...       ...         ...               ...       ...\n",
       "842     Al6061        150  0.161944  174.372188  Uniaxial tension  0.163944\n",
       "843     Al6061        150  0.162319  173.197507  Uniaxial tension  0.164319\n",
       "844     Al6061        150  0.162465  172.606949  Uniaxial tension  0.164465\n",
       "845     Al6061        150  0.162627  172.125882  Uniaxial tension  0.164627\n",
       "846     Al6061        150  0.162826  171.479881  Uniaxial tension  0.164826\n",
       "\n",
       "[847 rows x 6 columns]"
      ]
     },
     "execution_count": 138,
     "metadata": {},
     "output_type": "execute_result"
    }
   ],
   "source": [
    "#Yeild Point\n",
    "data[\"Offset\"] = data[\"Strain\"]+0.002\n",
    "data"
   ]
  },
  {
   "cell_type": "code",
   "execution_count": 139,
   "id": "94a92174",
   "metadata": {},
   "outputs": [],
   "source": [
    "x = pd.DataFrame(data.loc[0:prop_line,['Strain']])\n",
    "y = pd.DataFrame(data.loc[0:prop_line,['Stress_MPa']])\n",
    "\n",
    "model = LinearRegression().fit(x,y)\n",
    "y_new = model.predict(x) \n",
    "\n",
    "xx = pd.DataFrame(data.loc[0:prop_line,['Offset']])\n",
    "yy = pd.DataFrame(data.loc[0:prop_line,['Stress_MPa']])\n",
    "\n",
    "model = LinearRegression().fit(xx,yy)\n",
    "yy_new = model.predict(xx) "
   ]
  },
  {
   "cell_type": "code",
   "execution_count": 140,
   "id": "373a813c",
   "metadata": {},
   "outputs": [
    {
     "data": {
      "image/png": "[encoded data removed]",
      "text/plain": [
       "<Figure size 432x288 with 1 Axes>"
      ]
     },
     "metadata": {
      "needs_background": "light"
     },
     "output_type": "display_data"
    }
   ],
   "source": [
    "plt.scatter(data[\"Strain\"],data[\"Stress_MPa\"], label=\"Stress vs Strain\")\n",
    "plt.plot(x,y_new,'r',label=\"Linear Regression\")\n",
    "plt.plot(xx,yy_new,'g',label=\"Offset Linear Regression\")\n",
    "plt.title(\"Stress vs Strain\")\n",
    "plt.xlabel(\"Stress\")\n",
    "plt.ylabel(\"Strain\")\n",
    "plt.legend()\n",
    "plt.grid()\n",
    "plt.show()"
   ]
  },
  {
   "cell_type": "code",
   "execution_count": 141,
   "id": "019ed350",
   "metadata": {},
   "outputs": [],
   "source": [
    "#Yield Point\n",
    "for i in range(50,row):\n",
    "    if(data.iloc[prop_line]['Offset'] <= data.iloc[i]['Strain']):\n",
    "        x2 = data.loc[i].Strain\n",
    "        y2 = data.loc[i].Stress_MPa\n",
    "        break"
   ]
  },
  {
   "cell_type": "code",
   "execution_count": 143,
   "id": "6a567473",
   "metadata": {},
   "outputs": [
    {
     "data": {
      "image/png": "[encoded data removed]",
      "text/plain": [
       "<Figure size 1080x720 with 1 Axes>"
      ]
     },
     "metadata": {
      "needs_background": "light"
     },
     "output_type": "display_data"
    }
   ],
   "source": [
    "plt.subplots(figsize=[15,10])\n",
    "plt.scatter(data[\"Strain\"],data[\"Stress_MPa\"], label=\"Stress vs Strain\")\n",
    "plt.plot(x,y_new,'r',label=\"Linear Regression\")\n",
    "plt.plot(xx,yy_new,'g',label=\"Offset Linear Regression\")\n",
    "plt.scatter(x1,y1,marker='*',s=150,label=\"Proportional Point\")\n",
    "plt.scatter(x2,y2,marker='*',s=150,label=\"Yield Point\")\n",
    "plt.scatter(x3,y3,marker='*',s=150,label=\"Ultimate Tensile Strength\")\n",
    "plt.scatter(x4,y4,marker='*',s=150,label=\"Fracture Point\")\n",
    "plt.title(\"Stress vs Strain\")\n",
    "plt.xlabel(\"Stress\")\n",
    "plt.ylabel(\"Strain\")\n",
    "plt.legend()\n",
    "plt.grid()\n",
    "plt.show()"
   ]
  },
  {
   "cell_type": "code",
   "execution_count": 146,
   "id": "6924d5e4",
   "metadata": {},
   "outputs": [
    {
     "name": "stdout",
     "output_type": "stream",
     "text": [
      "Proportional limit: 230.3345189 MPa\n",
      "Yield Point: 231.430147 MPa\n",
      "Ultimate Tensile Strength: 237.5437267 MPa\n",
      "Fracture limit: 172.1258821 MPa\n"
     ]
    }
   ],
   "source": [
    "print('Proportional limit:',data.iloc[prop_line]['Stress_MPa'],'MPa')\n",
    "print('Yield Point:',y2, 'MPa')\n",
    "print('Ultimate Tensile Strength:',y3, 'MPa')\n",
    "print('Fracture limit:',y4, 'MPa')"
   ]
  },
  {
   "cell_type": "code",
   "execution_count": 149,
   "id": "32529e0e",
   "metadata": {},
   "outputs": [
    {
     "name": "stdout",
     "output_type": "stream",
     "text": [
      "0.95\n"
     ]
    }
   ],
   "source": [
    "print(round(r2_score(y,y_new),2))"
   ]
  },
  {
   "cell_type": "code",
   "execution_count": null,
   "id": "46af0069",
   "metadata": {},
   "outputs": [],
   "source": []
  }
 ],
 "metadata": {
  "kernelspec": {
   "display_name": "Python 3",
   "language": "python",
   "name": "python3"
  },
  "language_info": {
   "codemirror_mode": {
    "name": "ipython",
    "version": 3
   },
   "file_extension": ".py",
   "mimetype": "text/x-python",
   "name": "python",
   "nbconvert_exporter": "python",
   "pygments_lexer": "ipython3",
   "version": "3.8.8"
  }
 },
 "nbformat": 4,
 "nbformat_minor": 5
}
