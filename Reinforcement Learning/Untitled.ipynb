{
 "cells": [
  {
   "cell_type": "markdown",
   "id": "4cec0968",
   "metadata": {},
   "source": [
    "Importing required libraries"
   ]
  },
  {
   "cell_type": "code",
   "execution_count": 1,
   "id": "65007894",
   "metadata": {},
   "outputs": [],
   "source": [
    "import gym\n",
    "import numpy as np\n",
    "import random"
   ]
  },
  {
   "cell_type": "markdown",
   "id": "de531280",
   "metadata": {},
   "source": [
    "Creating the Environment"
   ]
  },
  {
   "cell_type": "code",
   "execution_count": 2,
   "id": "52661e9a",
   "metadata": {},
   "outputs": [
    {
     "name": "stdout",
     "output_type": "stream",
     "text": [
      "+---------+\n",
      "|R: | : :\u001b[35mG\u001b[0m|\n",
      "|\u001b[43m \u001b[0m: | : : |\n",
      "| : : : : |\n",
      "| | : | : |\n",
      "|Y| : |\u001b[34;1mB\u001b[0m: |\n",
      "+---------+\n",
      "\n"
     ]
    }
   ],
   "source": [
    "env = gym.make(\"Taxi-v3\")\n",
    "env.render()"
   ]
  },
  {
   "cell_type": "markdown",
   "id": "af2e400c",
   "metadata": {},
   "source": [
    "Hyperparameters"
   ]
  },
  {
   "cell_type": "code",
   "execution_count": 3,
   "id": "1e84c97b",
   "metadata": {},
   "outputs": [],
   "source": [
    "total_episodes = 50000\n",
    "total_test_episodes = 100"
   ]
  },
  {
   "cell_type": "markdown",
   "id": "986b2349",
   "metadata": {},
   "source": [
    "Reinforcement Learning"
   ]
  },
  {
   "cell_type": "code",
   "execution_count": 4,
   "id": "b26b1d69",
   "metadata": {},
   "outputs": [],
   "source": [
    "env.reset()\n",
    "total_epochs = []\n",
    "total_penalties = []\n",
    "total_reward = []\n",
    "frames = []\n",
    "\n",
    "for episode in range(total_test_episodes):\n",
    "    state = env.reset\n",
    "    step = 0\n",
    "    done = False\n",
    "    epochs, penalties, rewards = 0, 0, 0\n",
    "    \n",
    "    while not done:\n",
    "        action = env.action_space.sample()\n",
    "        \n",
    "        new_state, reward, done, info = env.step(action)\n",
    "        \n",
    "        if reward == -10:\n",
    "            penalties += 1\n",
    "        \n",
    "        epochs += 1\n",
    "        \n",
    "        total_reward.append(reward)\n",
    "        \n",
    "        frames.append({'episode':episode,'frames':env.render(mode='ansi'),'state':state,'action':action,'reward':reward})\n",
    "        \n",
    "        state = new_state\n",
    "    total_penalties.append(penalties)\n",
    "    total_epochs.append(epochs)"
   ]
  },
  {
   "cell_type": "markdown",
   "id": "b36237a0",
   "metadata": {},
   "source": [
    "Visualization"
   ]
  },
  {
   "cell_type": "code",
   "execution_count": 5,
   "id": "71c09fc5",
   "metadata": {},
   "outputs": [
    {
     "name": "stdout",
     "output_type": "stream",
     "text": [
      "Episode: 0\n",
      "+---------+\n",
      "|R: | : :\u001b[35mG\u001b[0m|\n",
      "| : | : : |\n",
      "|\u001b[42m_\u001b[0m: : : : |\n",
      "| | : | : |\n",
      "|Y| : |B: |\n",
      "+---------+\n",
      "  (Pickup)\n",
      "\n",
      "Timestep: 100\n",
      "State: 217\n",
      "Action: 4\n",
      "Reward: -10\n"
     ]
    }
   ],
   "source": [
    "from IPython.display import clear_output\n",
    "from time import sleep\n",
    "\n",
    "def print_frames(frames):\n",
    "    for i, frame in enumerate(frames):\n",
    "        clear_output(wait=True)\n",
    "        \n",
    "        if i == total_test_episodes:\n",
    "            break\n",
    "            \n",
    "        print(f\"Episode: {frame['episode']}\")\n",
    "        print(frame['frames'])\n",
    "        print(f\"Timestep: {i+1}\")\n",
    "        print(f\"State: {frame['state']}\")\n",
    "        print(f\"Action: {frame['action']}\")\n",
    "        print(f\"Reward: {frame['reward']}\")\n",
    "        sleep(0.1)\n",
    "        \n",
    "print_frames(frames)\n",
    "            "
   ]
  },
  {
   "cell_type": "code",
   "execution_count": 6,
   "id": "f07a228e",
   "metadata": {},
   "outputs": [
    {
     "name": "stdout",
     "output_type": "stream",
     "text": [
      "Results after 100 episode:\n",
      "Average timesteps per episode: 2.99\n",
      "Average reward per timesteps: -3.82943143812709\n",
      "Average penalties per episode: 0.94\n",
      "Total Reward: -11.45\n"
     ]
    }
   ],
   "source": [
    "print(f\"Results after {total_test_episodes} episode:\")\n",
    "print(f\"Average timesteps per episode: {sum(total_epochs)/total_test_episodes}\")\n",
    "print(f\"Average reward per timesteps: {sum(total_reward)/sum(total_epochs)}\")\n",
    "print(f\"Average penalties per episode: {sum(total_penalties)/total_test_episodes}\")\n",
    "print(f\"Total Reward: {sum(total_reward)/total_test_episodes}\")"
   ]
  },
  {
   "cell_type": "code",
   "execution_count": 7,
   "id": "7d1de747",
   "metadata": {},
   "outputs": [],
   "source": [
    "avg_ts_nrl = sum(total_epochs)/total_test_episodes\n",
    "avg_reward_nrl = sum(total_reward)/sum(total_epochs)\n",
    "avg_penalties_nrl = sum(total_penalties)/total_test_episodes"
   ]
  },
  {
   "cell_type": "markdown",
   "id": "477fd246",
   "metadata": {},
   "source": [
    "# Q Learning "
   ]
  },
  {
   "cell_type": "code",
   "execution_count": 8,
   "id": "9e8433b7",
   "metadata": {},
   "outputs": [],
   "source": [
    "max_steps = 99  #Maximum steps for each episode\n",
    "learning_rate = 0.7\n",
    "gamma = 0.1\n",
    "\n",
    "epsilon = 1.0\n",
    "max_epsilon = 1.0\n",
    "min_epsilon = 0.01\n",
    "decay_rate = 0.01"
   ]
  },
  {
   "cell_type": "code",
   "execution_count": 9,
   "id": "2b70444c",
   "metadata": {},
   "outputs": [
    {
     "name": "stdout",
     "output_type": "stream",
     "text": [
      "action size =  6\n",
      "state size =  500\n"
     ]
    }
   ],
   "source": [
    "action_size = env.action_space.n\n",
    "print(\"action size = \", action_size)\n",
    "\n",
    "state_size = env.observation_space.n\n",
    "print(\"state size = \", state_size)\n"
   ]
  },
  {
   "cell_type": "code",
   "execution_count": 10,
   "id": "01cabbd7",
   "metadata": {},
   "outputs": [
    {
     "name": "stdout",
     "output_type": "stream",
     "text": [
      "[[0. 0. 0. 0. 0. 0.]\n",
      " [0. 0. 0. 0. 0. 0.]\n",
      " [0. 0. 0. 0. 0. 0.]\n",
      " ...\n",
      " [0. 0. 0. 0. 0. 0.]\n",
      " [0. 0. 0. 0. 0. 0.]\n",
      " [0. 0. 0. 0. 0. 0.]]\n",
      "(500, 6)\n"
     ]
    }
   ],
   "source": [
    "qtable = np.zeros((state_size,action_size))\n",
    "print(qtable)\n",
    "print(qtable.shape)"
   ]
  },
  {
   "cell_type": "code",
   "execution_count": 11,
   "id": "672a0d93",
   "metadata": {},
   "outputs": [],
   "source": [
    "for episode in range(total_episodes):\n",
    "    state = env.reset()\n",
    "    step = 0\n",
    "    done = False\n",
    "    \n",
    "    for step in range(max_steps):\n",
    "        exp_exp_tradeoff = random.uniform(0,1)\n",
    "        \n",
    "        if exp_exp_tradeoff>epsilon:\n",
    "            action = np.argmax(qtable[state,:])\n",
    "            \n",
    "        else:\n",
    "            action = env.action_space.sample()\n",
    "            \n",
    "        new_state,reward,done,info = env.step(action)\n",
    "        \n",
    "        qtable[state,action] = qtable[state,action] + learning_rate*(reward+gamma*(np.max(qtable[new_state,:])) - qtable[state,action])\n",
    "        \n",
    "        state = new_state\n",
    "        \n",
    "        if done == True:\n",
    "            break\n",
    "            \n",
    "        epsilon = min_epsilon+(max_epsilon-min_epsilon)*np.exp(-decay_rate*episode)"
   ]
  },
  {
   "cell_type": "code",
   "execution_count": 12,
   "id": "2ef27628",
   "metadata": {},
   "outputs": [
    {
     "data": {
      "text/plain": [
       "array([[  0.        ,   0.        ,   0.        ,   0.        ,\n",
       "          0.        ,   0.        ],\n",
       "       [ -1.11111111,  -1.11111111,  -1.11111111,  -1.11111111,\n",
       "         -1.11111109, -10.11090406],\n",
       "       [ -1.11110884,  -1.11108985,  -1.11110899,  -1.11108977,\n",
       "         -1.1109    , -10.110409  ],\n",
       "       ...,\n",
       "       [ -1.11000692,  -1.109     ,  -1.10944103,  -1.10962872,\n",
       "         -9.80761964,  -7.        ],\n",
       "       [ -1.11111093,  -1.11111084,  -1.11111096,  -1.11111088,\n",
       "         -9.7937    ,  -7.        ],\n",
       "       [ -0.959     ,  -0.91      ,  -0.973     ,   0.99999999,\n",
       "         -9.149     ,  -9.1       ]])"
      ]
     },
     "execution_count": 12,
     "metadata": {},
     "output_type": "execute_result"
    }
   ],
   "source": [
    "qtable"
   ]
  },
  {
   "cell_type": "code",
   "execution_count": 13,
   "id": "4346bc38",
   "metadata": {},
   "outputs": [],
   "source": [
    "env.reset()\n",
    "total_epochs = []\n",
    "total_penalties = []\n",
    "total_reward = []\n",
    "frames = []\n",
    "\n",
    "for episode in range(total_test_episodes):\n",
    "    state = env.reset()\n",
    "    step = 0\n",
    "    done = False\n",
    "    epochs, penalties, rewards = 0, 0, 0\n",
    "    \n",
    "    while not done:\n",
    "        action = np.argmax(qtable[state,:])\n",
    "        \n",
    "        new_state, reward, done, info = env.step(action)\n",
    "        \n",
    "        if reward == -10:\n",
    "            penalties += 1\n",
    "        \n",
    "        epochs += 1\n",
    "        \n",
    "        total_reward.append(reward)\n",
    "        \n",
    "        frames.append({'episode':episode,'frames':env.render(mode='ansi'),'state':state,'action':action,'reward':reward})\n",
    "        \n",
    "        state = new_state\n",
    "    total_penalties.append(penalties)\n",
    "    total_epochs.append(epochs)"
   ]
  },
  {
   "cell_type": "code",
   "execution_count": 14,
   "id": "fa2e1699",
   "metadata": {},
   "outputs": [
    {
     "name": "stdout",
     "output_type": "stream",
     "text": [
      "Episode: 99\n",
      "+---------+\n",
      "|R: | : :G|\n",
      "| : | : : |\n",
      "| : : : : |\n",
      "| | : | : |\n",
      "|Y| : |\u001b[35m\u001b[34;1m\u001b[43mB\u001b[0m\u001b[0m\u001b[0m: |\n",
      "+---------+\n",
      "  (Dropoff)\n",
      "\n",
      "Timestep: 1271\n",
      "State: 479\n",
      "Action: 5\n",
      "Reward: 20\n"
     ]
    }
   ],
   "source": [
    "from IPython.display import clear_output\n",
    "from time import sleep\n",
    "\n",
    "def print_frames(frames):\n",
    "    for i, frame in enumerate(frames):\n",
    "        clear_output(wait=True)\n",
    "        \n",
    "        if frame['episode'] == total_test_episodes:\n",
    "            break\n",
    "            \n",
    "        print(f\"Episode: {frame['episode']}\")\n",
    "        print(frame['frames'])\n",
    "        print(f\"Timestep: {i+1}\")\n",
    "        print(f\"State: {frame['state']}\")\n",
    "        print(f\"Action: {frame['action']}\")\n",
    "        print(f\"Reward: {frame['reward']}\")\n",
    "        sleep(0)\n",
    "        \n",
    "print_frames(frames)"
   ]
  },
  {
   "cell_type": "code",
   "execution_count": 15,
   "id": "6a74a520",
   "metadata": {},
   "outputs": [
    {
     "name": "stdout",
     "output_type": "stream",
     "text": [
      "Results after 100 episode:\n",
      "Average timesteps per episode: 12.71\n",
      "Average reward per timesteps: 0.6522423288749016\n",
      "Average penalties per episode: 0.0\n",
      "Total Reward: 8.29\n"
     ]
    }
   ],
   "source": [
    "print(f\"Results after {total_test_episodes} episode:\")\n",
    "print(f\"Average timesteps per episode: {sum(total_epochs)/total_test_episodes}\")\n",
    "print(f\"Average reward per timesteps: {sum(total_reward)/sum(total_epochs)}\")\n",
    "print(f\"Average penalties per episode: {sum(total_penalties)/total_test_episodes}\")\n",
    "print(f\"Total Reward: {sum(total_reward)/total_test_episodes}\")"
   ]
  },
  {
   "cell_type": "code",
   "execution_count": 16,
   "id": "1dd72f87",
   "metadata": {},
   "outputs": [],
   "source": [
    "avg_ts_rl = sum(total_epochs)/total_test_episodes\n",
    "avg_reward_rl = sum(total_reward)/sum(total_epochs)\n",
    "avg_penalties_rl = sum(total_penalties)/total_test_episodes"
   ]
  },
  {
   "cell_type": "code",
   "execution_count": 17,
   "id": "b54b81ba",
   "metadata": {},
   "outputs": [],
   "source": [
    "import pandas as pd\n",
    "import seaborn as sns\n",
    "import matplotlib.pyplot as plt"
   ]
  },
  {
   "cell_type": "code",
   "execution_count": 18,
   "id": "283a28cf",
   "metadata": {},
   "outputs": [],
   "source": [
    "models = [(\"Random agent's prformance\", avg_reward_nrl, avg_penalties_nrl,avg_ts_nrl),(\"Q-Learning agents's performance\",avg_reward_rl, avg_penalties_rl,avg_ts_rl)]"
   ]
  },
  {
   "cell_type": "code",
   "execution_count": 19,
   "id": "3db8f80d",
   "metadata": {},
   "outputs": [],
   "source": [
    "Algorithms = pd.DataFrame(data = models, columns=['Model', \"Average rewards per move\", \"Average number of penalties per episode\", \"Average number of timesteps per trip\"])"
   ]
  },
  {
   "cell_type": "code",
   "execution_count": 20,
   "id": "c9bd1844",
   "metadata": {},
   "outputs": [
    {
     "data": {
      "text/html": [
       "<div>\n",
       "<style scoped>\n",
       "    .dataframe tbody tr th:only-of-type {\n",
       "        vertical-align: middle;\n",
       "    }\n",
       "\n",
       "    .dataframe tbody tr th {\n",
       "        vertical-align: top;\n",
       "    }\n",
       "\n",
       "    .dataframe thead th {\n",
       "        text-align: right;\n",
       "    }\n",
       "</style>\n",
       "<table border=\"1\" class=\"dataframe\">\n",
       "  <thead>\n",
       "    <tr style=\"text-align: right;\">\n",
       "      <th></th>\n",
       "      <th>Model</th>\n",
       "      <th>Average rewards per move</th>\n",
       "      <th>Average number of penalties per episode</th>\n",
       "      <th>Average number of timesteps per trip</th>\n",
       "    </tr>\n",
       "  </thead>\n",
       "  <tbody>\n",
       "    <tr>\n",
       "      <th>0</th>\n",
       "      <td>Random agent's prformance</td>\n",
       "      <td>-3.829431</td>\n",
       "      <td>0.94</td>\n",
       "      <td>2.99</td>\n",
       "    </tr>\n",
       "    <tr>\n",
       "      <th>1</th>\n",
       "      <td>Q-Learning agents's performance</td>\n",
       "      <td>0.652242</td>\n",
       "      <td>0.00</td>\n",
       "      <td>12.71</td>\n",
       "    </tr>\n",
       "  </tbody>\n",
       "</table>\n",
       "</div>"
      ],
      "text/plain": [
       "                             Model  Average rewards per move  \\\n",
       "0        Random agent's prformance                 -3.829431   \n",
       "1  Q-Learning agents's performance                  0.652242   \n",
       "\n",
       "   Average number of penalties per episode  \\\n",
       "0                                     0.94   \n",
       "1                                     0.00   \n",
       "\n",
       "   Average number of timesteps per trip  \n",
       "0                                  2.99  \n",
       "1                                 12.71  "
      ]
     },
     "execution_count": 20,
     "metadata": {},
     "output_type": "execute_result"
    }
   ],
   "source": [
    "Algorithms"
   ]
  },
  {
   "cell_type": "code",
   "execution_count": 21,
   "id": "23b55db0",
   "metadata": {},
   "outputs": [
    {
     "data": {
      "image/png": "[encoded data removed]",
      "text/plain": [
       "<Figure size 720x720 with 1 Axes>"
      ]
     },
     "metadata": {
      "needs_background": "light"
     },
     "output_type": "display_data"
    }
   ],
   "source": [
    "plt.figure(figsize=(10,10))\n",
    "sns.barplot(x = 'Model', y = 'Average rewards per move', data = Algorithms)\n",
    "plt.show()"
   ]
  },
  {
   "cell_type": "code",
   "execution_count": 22,
   "id": "ee564fe7",
   "metadata": {},
   "outputs": [
    {
     "data": {
      "image/png": "[encoded data removed]",
      "text/plain": [
       "<Figure size 720x720 with 1 Axes>"
      ]
     },
     "metadata": {
      "needs_background": "light"
     },
     "output_type": "display_data"
    }
   ],
   "source": [
    "plt.figure(figsize=(10,10))\n",
    "sns.barplot(x = 'Model', y = 'Average number of penalties per episode', data = Algorithms)\n",
    "plt.show()"
   ]
  },
  {
   "cell_type": "code",
   "execution_count": 23,
   "id": "6b83c29a",
   "metadata": {},
   "outputs": [
    {
     "data": {
      "image/png": "[encoded data removed]",
      "text/plain": [
       "<Figure size 720x720 with 1 Axes>"
      ]
     },
     "metadata": {
      "needs_background": "light"
     },
     "output_type": "display_data"
    }
   ],
   "source": [
    "plt.figure(figsize=(10,10))\n",
    "sns.barplot(x = 'Model', y = 'Average number of timesteps per trip', data = Algorithms)\n",
    "plt.show()"
   ]
  },
  {
   "cell_type": "code",
   "execution_count": null,
   "id": "f53e3da3",
   "metadata": {},
   "outputs": [],
   "source": []
  }
 ],
 "metadata": {
  "kernelspec": {
   "display_name": "Python 3",
   "language": "python",
   "name": "python3"
  },
  "language_info": {
   "codemirror_mode": {
    "name": "ipython",
    "version": 3
   },
   "file_extension": ".py",
   "mimetype": "text/x-python",
   "name": "python",
   "nbconvert_exporter": "python",
   "pygments_lexer": "ipython3",
   "version": "3.9.12"
  }
 },
 "nbformat": 4,
 "nbformat_minor": 5
}
